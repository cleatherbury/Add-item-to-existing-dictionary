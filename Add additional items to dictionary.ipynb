{
 "cells": [
  {
   "cell_type": "code",
   "execution_count": 8,
   "metadata": {},
   "outputs": [
    {
     "name": "stdout",
     "output_type": "stream",
     "text": [
      "<generator object <genexpr> at 0x10d51e5e0>\n",
      "[{'fruit': 'apple', 'weight': '500', 'image': 'apple.jpeg'}, {'fruit': 'banana', 'weight': '420', 'image': 'banana.jpeg'}, {'fruit': 'orange', 'weight': '900', 'image': 'orange.jpeg'}]\n"
     ]
    }
   ],
   "source": [
    "import os\n",
    "\n",
    "# Existing list of dictionaries\n",
    "dictionary = [\n",
    "  {'fruit': 'apple'},\n",
    "  {'fruit': 'banana'},\n",
    "  {'fruit': 'orange'},\n",
    "  # Add more dictionaries for other items\n",
    "]\n",
    "\n",
    "# Values for the 'weight' key corresponding to each item\n",
    "weights = ['500 lbs', '420 lbs', '900 lbs', '600 lbs']\n",
    "\n",
    "# Directory path containing the image files\n",
    "image_directory = '/images/'\n",
    "\n",
    "wlist = (weight.rstrip(' lbs') for weight in weights)\n",
    "print(wlist)\n",
    "# Updating 'weight' and 'image' keys in each dictionary\n",
    "for item in (dictionary):\n",
    "  item['weight'] = next(wlist)\n",
    "\n",
    "  image_file_name = f\"{item['fruit']}.jpeg\"\n",
    "  item['image'] = image_file_name\n",
    "\n",
    "print(dictionary)"
   ]
  }
 ],
 "metadata": {
  "kernelspec": {
   "display_name": "Python 3",
   "language": "python",
   "name": "python3"
  },
  "language_info": {
   "codemirror_mode": {
    "name": "ipython",
    "version": 3
   },
   "file_extension": ".py",
   "mimetype": "text/x-python",
   "name": "python",
   "nbconvert_exporter": "python",
   "pygments_lexer": "ipython3",
   "version": "3.11.4"
  },
  "orig_nbformat": 4
 },
 "nbformat": 4,
 "nbformat_minor": 2
}
